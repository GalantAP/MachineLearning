{
 "cells": [
  {
   "cell_type": "code",
   "execution_count": 1,
   "id": "eea4affe",
   "metadata": {},
   "outputs": [
    {
     "name": "stdout",
     "output_type": "stream",
     "text": [
      "Accuracy: 0.475\n",
      "Precision: 0.5869565217391305\n",
      "Recall: 0.23893805309734514\n",
      "F1 Score: 0.33962264150943394\n",
      "AUC-ROC: 0.5027972739294069\n",
      "Mean Absolute Error: 0.08369227312338921\n",
      "Mean Squared Error: 0.010796273618345915\n",
      "Root Mean Squared Error: 0.10390511834527649\n"
     ]
    }
   ],
   "source": [
    "import numpy as np\n",
    "import pandas as pd\n",
    "from sklearn.model_selection import train_test_split\n",
    "from sklearn.linear_model import LogisticRegression, LinearRegression\n",
    "from sklearn.metrics import accuracy_score, precision_score, recall_score, f1_score, roc_auc_score\n",
    "from sklearn.metrics import mean_absolute_error, mean_squared_error\n",
    "\n",
    "# Membuat data sampel untuk klasifikasi\n",
    "X_class = np.random.rand(1000, 10)\n",
    "y_class = np.random.randint(2, size=1000)\n",
    "\n",
    "# Split data menjadi train dan test\n",
    "X_train_class, X_test_class, y_train_class, y_test_class = train_test_split(X_class, y_class, test_size=0.2, random_state=42)\n",
    "\n",
    "# Melatih model klasifikasi\n",
    "model_class = LogisticRegression()\n",
    "model_class.fit(X_train_class, y_train_class)\n",
    "\n",
    "# Prediksi\n",
    "y_pred_class = model_class.predict(X_test_class)\n",
    "y_prob_class = model_class.predict_proba(X_test_class)[:, 1]\n",
    "\n",
    "# Metrik Klasifikasi\n",
    "print(\"Accuracy:\", accuracy_score(y_test_class, y_pred_class))\n",
    "print(\"Precision:\", precision_score(y_test_class, y_pred_class))\n",
    "print(\"Recall:\", recall_score(y_test_class, y_pred_class))\n",
    "print(\"F1 Score:\", f1_score(y_test_class, y_pred_class))\n",
    "print(\"AUC-ROC:\", roc_auc_score(y_test_class, y_prob_class))\n",
    "\n",
    "# Membuat data sampel untuk regresi\n",
    "X_reg = np.random.rand(1000, 10)\n",
    "y_reg = 3 * X_reg[:, 0] + 2 * X_reg[:, 1] + np.random.randn(1000) * 0.1\n",
    "\n",
    "# Split data menjadi train dan test\n",
    "X_train_reg, X_test_reg, y_train_reg, y_test_reg = train_test_split(X_reg, y_reg, test_size=0.2, random_state=42)\n",
    "\n",
    "# Melatih model regresi\n",
    "model_reg = LinearRegression()\n",
    "model_reg.fit(X_train_reg, y_train_reg)\n",
    "\n",
    "# Prediksi\n",
    "y_pred_reg = model_reg.predict(X_test_reg)\n",
    "\n",
    "# Metrik Regresi\n",
    "print(\"Mean Absolute Error:\", mean_absolute_error(y_test_reg, y_pred_reg))\n",
    "print(\"Mean Squared Error:\", mean_squared_error(y_test_reg, y_pred_reg))\n",
    "print(\"Root Mean Squared Error:\", np.sqrt(mean_squared_error(y_test_reg, y_pred_reg)))"
   ]
  }
 ],
 "metadata": {
  "kernelspec": {
   "display_name": "Python 3",
   "language": "python",
   "name": "python3"
  },
  "language_info": {
   "codemirror_mode": {
    "name": "ipython",
    "version": 3
   },
   "file_extension": ".py",
   "mimetype": "text/x-python",
   "name": "python",
   "nbconvert_exporter": "python",
   "pygments_lexer": "ipython3",
   "version": "3.12.6"
  }
 },
 "nbformat": 4,
 "nbformat_minor": 5
}
